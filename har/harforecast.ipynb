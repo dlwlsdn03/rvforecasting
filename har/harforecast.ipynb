{
 "cells": [
  {
   "cell_type": "code",
   "execution_count": 4,
   "id": "1e3b4278-1e9c-487e-96dc-3f56d2689803",
   "metadata": {},
   "outputs": [
    {
     "name": "stderr",
     "output_type": "stream",
     "text": [
      "\n",
      "[notice] A new release of pip is available: 25.0.1 -> 25.2\n",
      "[notice] To update, run: python.exe -m pip install --upgrade pip\n"
     ]
    }
   ],
   "source": [
    "import sys\n",
    "!{sys.executable} -m pip install statsmodels --quiet"
   ]
  },
  {
   "cell_type": "code",
   "execution_count": null,
   "id": "149845ec-64a8-453d-b85a-3d558c65c829",
   "metadata": {},
   "outputs": [
    {
     "name": "stdout",
     "output_type": "stream",
     "text": [
      "Saved 7279 rows from 1996-02-02 to 2025-04-29\n"
     ]
    }
   ],
   "source": [
    "import pandas as pd\n",
    "import statsmodels.api as sm\n",
    "\n",
    "#load\n",
    "path = r'C:\\Users\\Rickey\\Downloads\\FIN788\\DCX RV\\spy.csv'\n",
    "df = pd.read_csv(\n",
    "    path,\n",
    "    parse_dates=['Date'],\n",
    "    dayfirst=True,        #dd\n",
    "    index_col='Date'\n",
    ")\n",
    "df = df.sort_index()     ##ascending\n",
    "df['rv'] = df['Volatility']\n",
    "\n",
    "#1,5,22 lags\n",
    "df['rv_lag1']  = df['rv'].shift(1)\n",
    "df['rv_week']  = df['rv'].rolling(5).mean().shift(1)\n",
    "df['rv_month'] = df['rv'].rolling(22).mean().shift(1)\n",
    "df = df.dropna()\n",
    "\n",
    "#ols fit\n",
    "X = sm.add_constant(df[['rv_lag1','rv_week','rv_month']])\n",
    "y = df['rv']\n",
    "har_model = sm.OLS(y, X).fit()\n",
    "\n",
    "#insample forecast\n",
    "df['har_forecast'] = har_model.predict(X)\n",
    "\n",
    "\n",
    "start, end = pd.Timestamp('1996-02-02'), pd.Timestamp('2025-04-30')\n",
    "mask = (df.index >= start) & (df.index <= end)\n",
    "forecast_df = df.loc[mask, ['har_forecast']]\n",
    "\n",
    "\n",
    "forecast_df.to_csv('har_forecasts.csv', header=True)\n",
    "\n",
    "print(f\"Saved {len(forecast_df)} rows from {forecast_df.index.min().date()} to {forecast_df.index.max().date()}\")\n"
   ]
  },
  {
   "cell_type": "code",
   "execution_count": null,
   "id": "ca6ae47a-3ae2-4019-aa77-a3bf0ca3fe67",
   "metadata": {},
   "outputs": [],
   "source": []
  }
 ],
 "metadata": {
  "kernelspec": {
   "display_name": "Python 3 (ipykernel)",
   "language": "python",
   "name": "python3"
  },
  "language_info": {
   "codemirror_mode": {
    "name": "ipython",
    "version": 3
   },
   "file_extension": ".py",
   "mimetype": "text/x-python",
   "name": "python",
   "nbconvert_exporter": "python",
   "pygments_lexer": "ipython3",
   "version": "3.10.11"
  }
 },
 "nbformat": 4,
 "nbformat_minor": 5
}
